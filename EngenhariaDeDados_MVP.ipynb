{
  "nbformat": 4,
  "nbformat_minor": 0,
  "metadata": {
    "colab": {
      "provenance": [],
      "authorship_tag": "ABX9TyNov0iDfL3S+wX5YCF5y8Vt",
      "include_colab_link": true
    },
    "kernelspec": {
      "name": "python3",
      "display_name": "Python 3"
    },
    "language_info": {
      "name": "python"
    }
  },
  "cells": [
    {
      "cell_type": "markdown",
      "metadata": {
        "id": "view-in-github",
        "colab_type": "text"
      },
      "source": [
        "<a href=\"https://colab.research.google.com/github/alanrolemberg/mvp-engenharia-dados/blob/main/EngenhariaDeDados_MVP.ipynb\" target=\"_parent\"><img src=\"https://colab.research.google.com/assets/colab-badge.svg\" alt=\"Open In Colab\"/></a>"
      ]
    },
    {
      "cell_type": "markdown",
      "source": [
        "# Pontifícia Universidade Católica do Rio de Janeiro - PUC - RJ\n",
        "**Ano:** 2023\n",
        "\n",
        "**Sprint:** Engenharia de dados (40530010057_20230_01)\n",
        "\n",
        "**MVP – Minimun Valuable Product**\n",
        "\n",
        "**Aluno:** ALAN ROLEMBERG ELIODORIO"
      ],
      "metadata": {
        "id": "CUhni-3RV_xJ"
      }
    },
    {
      "cell_type": "markdown",
      "source": [
        "## 0. Objetivo do trabalho\n",
        "\n",
        "O comércio eletrônico vem crescendo a cada ano no mundo, e é um dos principais casos de uso para análise de dados, tanto no quesito de análise histórica em DWs como no quesito de análise preditiva, através de algoritmos de machine Learning.\n",
        "Portanto, neste trabalho iremos realizar uma busca de uma base de dados de vendas via comércio eletrônico, buscando efetuar análises e responder as perguntas abaixo:\n",
        "- Qual o incremento de vendas de produtos de um ano para o outro?\n",
        "- Quais os produtos que mais venderam nos últimos anos?\n",
        "- Quais os produtos que caíram em número de vendas nos últimos anos?\n",
        "- Quais os métodos de pagamentos mais usados por consumidores jovens(<30)? E quais os métodos de pagamentos mais usados por consumidores idosos (>65)? E quais os métodos de pagamentos mais usados pelos consumidores em geral?\n",
        "- Qual o índice de satisfação médio do consumidor do Nordeste do Brasil? E qual o índice de satisfação médio do consumidor do Sul do Brasil?"
      ],
      "metadata": {
        "id": "aAJ1AtYQV_7m"
      }
    },
    {
      "cell_type": "markdown",
      "source": [
        "## 1. Busca pelos dados\n",
        "\n",
        "A base de dados escolhida foi a Brazilian E-Commerce Public Dataset extraída do Kaggle. Este banco de dados foi disponibilizado pela olist.com, que é uma empresa que comercializa “sites para comércio eletrônico”.\n",
        "URL: https://www.kaggle.com/datasets/olistbr/brazilian-ecommerce?resource=download"
      ],
      "metadata": {
        "id": "SnH85tx1WAGX"
      }
    },
    {
      "cell_type": "markdown",
      "source": [
        "## 2 . Coleta\n",
        "\n",
        "Conseguimos resgatar um conjunto de 9 arquivos conforme imagem abaixo:"
      ],
      "metadata": {
        "id": "MqUvEsbuWAKs"
      }
    },
    {
      "cell_type": "markdown",
      "source": [
        "Esses arquivos representam tabelas normalizadas que contêm as entidades abaixo:\n",
        "    • Vendas\n",
        "    • Itens vendidos\n",
        "    • Produtos\n",
        "    • Clientes\n",
        "    • Vendedores\n",
        "    • Pagamento de pedidos\n",
        "    • Avaliação de pedidos\n",
        "    • Tradução do nome da categoria\n",
        "    • Geolocalização"
      ],
      "metadata": {
        "id": "A81Y2ggjWAOd"
      }
    },
    {
      "cell_type": "markdown",
      "source": [
        "Esses arquivos serão carregados no Azure Databricks, e armazenados numa base de dados normalizada SQL Server.\n",
        "\n",
        "O primeiro passo que executamos foi o carregamento dos arquivos no Azure Blob Storage, para fins de uso dentro dos recursos da nuvem Azure.\n",
        "\n",
        "\n",
        "\n"
      ],
      "metadata": {
        "id": "Q-N3AY4PWARc"
      }
    },
    {
      "cell_type": "markdown",
      "source": [
        "## 3 . Modelagem\n",
        "\n",
        "Idealizamos uma modelagem alvo para representar o datawarehouse que precisamos para responder nossas perguntas. O formato escolhido foi star schema, no qual teremos apenas uma tabela fato, que terá os dados das vendas (orders) que iremos analisar. Esse modelo foi elaborado através da ferramenta genmymodel.com .\n",
        "Abaixo está a imagem do modelo que desenhamos:\n"
      ],
      "metadata": {
        "id": "7CDqLKtEWxK-"
      }
    },
    {
      "cell_type": "markdown",
      "source": [
        "## 4. Carga\n",
        "\n"
      ],
      "metadata": {
        "id": "3Nl6n30bWy9D"
      }
    },
    {
      "cell_type": "markdown",
      "source": [
        "## 5. Análise"
      ],
      "metadata": {
        "id": "Rqo5uPuZWy5H"
      }
    },
    {
      "cell_type": "markdown",
      "source": [
        "\n",
        "\n",
        "> a. Qualidade de dados\n",
        "\n",
        "\n"
      ],
      "metadata": {
        "id": "YxqrYcOkWy0s"
      }
    },
    {
      "cell_type": "markdown",
      "source": [
        "\n",
        "\n",
        "> b. Solução do problema\n",
        "\n"
      ],
      "metadata": {
        "id": "GONgPE_1WytP"
      }
    },
    {
      "cell_type": "markdown",
      "source": [],
      "metadata": {
        "id": "G1SMoz6HWyjx"
      }
    },
    {
      "cell_type": "markdown",
      "source": [],
      "metadata": {
        "id": "Hk-ciXMMWyZJ"
      }
    },
    {
      "cell_type": "markdown",
      "source": [],
      "metadata": {
        "id": "3e-CqkN9Wx4B"
      }
    }
  ]
}